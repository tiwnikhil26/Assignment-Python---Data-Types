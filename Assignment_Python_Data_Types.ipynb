{
  "nbformat": 4,
  "nbformat_minor": 0,
  "metadata": {
    "colab": {
      "provenance": []
    },
    "kernelspec": {
      "name": "python3",
      "display_name": "Python 3"
    },
    "language_info": {
      "name": "python"
    }
  },
  "cells": [
    {
      "cell_type": "markdown",
      "source": [
        "# **Python Assignment : Data Types**"
      ],
      "metadata": {
        "id": "Hj54mL-FeyKx"
      }
    },
    {
      "cell_type": "markdown",
      "source": [
        "Q1- What are data structures, and why are they important?\n",
        "\n",
        "Sol- A data structure is like a container that holds data in a specific format — such as a list, stack, queue, tree, or graph — so that operations like searching, inserting, or deleting data can be done quickly and efficiently.\n",
        "\n",
        "Examples of data structure are-->\n",
        "\n",
        "Array – Stores data in a fixed-size list.\n",
        "\n",
        "Linked List – Stores data in nodes connected by links.\n",
        "\n",
        "Stack – Follows Last In, First Out (LIFO).\n",
        "\n",
        "Queue – Follows First In, First Out (FIFO).\n",
        "\n",
        "Tree – Hierarchical structure (like folders in a computer).\n",
        "\n",
        "Graph – Represents relationships between objects (like a social network).\n"
      ],
      "metadata": {
        "id": "M6fiS2nHe928"
      }
    },
    {
      "cell_type": "markdown",
      "source": [
        "Q2 -  Explain the difference between mutable and immutable data types with examples?\n",
        "\n",
        "Sol - In Python mutable and immutable describe whether an objects value can be changed after its created.\n",
        "\n",
        "Mutable - You can change their contents add, remove, or modify elementswithout creating a new object. Examples - list, dict, set\n",
        "\n",
        "my_list = [1, 2, 3]\n",
        "\n",
        "my_list[0] = 10        # changing first element\n",
        "\n",
        "print(my_list)\n",
        "\n",
        "Immutable Data Types - You cannot change their contents once created. Any modification creates a new object. Examples- int, float, string, tuple\n",
        "\n",
        "my_string = \"Hello\"\n",
        "\n",
        "my_string = my_string + \" World\"\n",
        "\n",
        "print(my_string)\n"
      ],
      "metadata": {
        "id": "oFVleAIKfe7m"
      }
    },
    {
      "cell_type": "markdown",
      "source": [
        "Q3 - What are the main differences between lists and tuples in Python?\n",
        "\n",
        "Sol - Lists and tuples are both used to store collections of data in Python, but they differ mainly in mutability and use cases.\n",
        "\n",
        "Examples -\n",
        "\n",
        "# List\n",
        "my_list = [1, 2, 3]\n",
        "\n",
        "my_list.append(4)       \n",
        "\n",
        "print(my_list)    \n",
        "      # [1, 2, 3, 4]\n",
        "\n",
        "# Tuple\n",
        "\n",
        "my_tuple = (1, 2, 3)\n",
        "\n",
        "my_tuple[0] = 10        # error — tuples can’t be modified\n",
        "\n"
      ],
      "metadata": {
        "id": "vbzya7Xegb_0"
      }
    },
    {
      "cell_type": "code",
      "source": [
        "Q4 - Describe how dictionaries store data?\n",
        "\n",
        "Sol- A dictionary stores data in the form of key–value pairs.\n",
        "\n",
        "Structure:\n",
        "\n",
        "dictionary = {\n",
        "    \"key1\": \"value1\",\n",
        "    \"key2\": \"value2\"\n",
        "}\n",
        "\n",
        "Examples -->\n",
        "\n",
        "student = {\n",
        "    \"name\": \"Nikhil\",\n",
        "    \"age\": 25,\n",
        "    \"course\": \"Python\"\n",
        "}\n",
        "\n",
        "\"name\", \"age\", \"course\" --> Keys\n",
        "\n",
        "\"Nikhil\", 25, \"Python\" --> Values"
      ],
      "metadata": {
        "id": "aq15hVAekQM0"
      },
      "execution_count": null,
      "outputs": []
    },
    {
      "cell_type": "code",
      "source": [
        "Q5 - Why might you use a set instead of a list in Python3\n",
        "Sol - Use a set when you need unique, unordered data and fast membership checking\n",
        "Use a list when order and duplicates matter.\n",
        "\n",
        "Examples :\n",
        "# List allows duplicates\n",
        "my_list = [1, 2, 2, 3]\n",
        "print(my_list)  # [1, 2, 2, 3]\n",
        "\n",
        "# Set removes duplicates automatically\n",
        "my_set = {1, 2, 2, 3}\n",
        "print(my_set)   # {1, 2, 3}\n",
        "\n",
        "We can use a set when -->\n",
        "When we need to remove duplicates from a list.\n",
        "\n",
        "When we frequently check if an item exists in a collection.\n",
        "\n",
        "When the order of elements doesn’t matter."
      ],
      "metadata": {
        "id": "w8PDlN-1kuRA"
      },
      "execution_count": null,
      "outputs": []
    },
    {
      "cell_type": "code",
      "source": [
        "Q6 - What is a string in Python, and how is it different from a list?\n",
        "\n",
        "Sol - A string in Python is a sequence of characters enclosed in quotes — single (' '), double (\" \"), or triple (''' ''' or \"\"\" \"\"\").\n",
        "\n",
        "text = \"Hello, Nikhil!\"\n",
        "\n",
        "Example :\n",
        "# String example\n",
        "word = \"hello\"\n",
        "print(word[1])\n",
        "\n",
        "# List example\n",
        "my_list = ['h', 'e', 'l', 'l', 'o']\n",
        "my_list[0] = 'H'       #\n",
        "print(my_list)         # ['H', 'e', 'l', 'l', 'o']\n",
        "\n",
        "A string is an immutable sequence of characters,\n",
        "while a list is a mutable collection that can store any type of data.\n"
      ],
      "metadata": {
        "id": "w76hZPVTlWSU"
      },
      "execution_count": null,
      "outputs": []
    },
    {
      "cell_type": "markdown",
      "source": [
        "Q7 - How do tuples ensure data integrity in Python?\n",
        "\n",
        "Sol - Tuples ensure data integrity in Python because they are immutable — once created, their elements cannot be changed, added, or removed.Tuples ensure data integrity by being immutable, preventing accidental or unauthorized modifications to stored data.\n"
      ],
      "metadata": {
        "id": "asX_UXwtm9O-"
      }
    },
    {
      "cell_type": "markdown",
      "source": [
        "Q8 - What is a hash table, and how does it relate to dictionaries in Python?\n",
        "\n",
        "Sol - A hash table is a data structure that stores data in key–value pairs and allows fast access to values using their keys.\n",
        "\n",
        "Itstore a value with a key, Python uses a hash function to convert the key into a unique number called a hash value.\n",
        "\n",
        "Hash value determines where the data is stored in memory.\n",
        "\n",
        "When we later look up the key, Python uses the same hash to instantly find the value, without searching through every element.\n",
        "\n",
        "Examples -->\n",
        "\n",
        "student = {\"name\": \"Nikhil\", \"age\": 25, \"city\": \"Delhi\"}\n",
        "\n",
        "print(student[\"name\"])  # Output: Nikhil\n"
      ],
      "metadata": {
        "id": "3Psz0RCgnFJf"
      }
    },
    {
      "cell_type": "markdown",
      "source": [
        "Q9 - Yes lists in python can contain different data types as A list is a flexible, ordered collection that can store elements of mixed types — numbers, strings, booleans, even other lists or objects.\n",
        "\n",
        "Examples -->\n",
        "\n",
        "my_list = [10, \"Nikhil\", 3.14, True, [1, 2, 3]]\n",
        "\n",
        "print(my_list)\n"
      ],
      "metadata": {
        "id": "yFH7wIn4niRn"
      }
    },
    {
      "cell_type": "markdown",
      "source": [
        "Q10 - Explain why strings are immutable in Python?\n",
        "\n",
        "Sol- In Python, strings are immutable, meaning once a string is created, it cannot be changed any modification creates a new string object instead of altering the original one. Strings in Python are immutable to ensure security, efficiency, and consistency.\n",
        "Any “change” to a string actually creates a new string object in memory."
      ],
      "metadata": {
        "id": "Hjg7OglFnzm7"
      }
    },
    {
      "cell_type": "markdown",
      "source": [
        "Q11 - What advantages do dictionaries offer over lists for certain tasks?\n",
        "\n",
        "Sol - Dictionaries and lists are both powerful, but dictionaries offer several advantages for specific tasks — especially when you need to store and access data using meaningful keys rather than numeric positions.\n",
        "\n",
        "Using a list:\n",
        "\n",
        "student = [\"Nikhil\", 25, \"Delhi\"]\n",
        "\n",
        "print(student[0])  # Hard to remember index → Nikhil\n",
        "\n",
        "Using a dictionary:\n",
        "\n",
        "student = {\"name\": \"Nikhil\", \"age\": 25, \"city\": \"Delhi\"}\n",
        "\n",
        "print(student[\"name\"])  # Much clearer → Nikhil\n"
      ],
      "metadata": {
        "id": "nvJ0qGfqoOfL"
      }
    },
    {
      "cell_type": "markdown",
      "source": [
        "Q12 - Describe a scenario where using a tuple would be preferable over a list.\n",
        "\n",
        "Sol - Let’s say we are storing the latitude and longitude of a city.\n",
        "\n",
        "Example -->\n",
        "\n",
        "location = (28.6139, 77.2090)  # Coordinates of New Delhi\n",
        "\n",
        "Below are the reasons why tuples are better -->\n",
        "\n",
        "The coordinates are fixed — they should not be modified.\n",
        "\n",
        "Tuples are immutable, so the data stays safe and consistent.\n",
        "\n",
        "Tuples are faster and use less memory than lists.\n",
        "\n",
        "They can also be used as dictionary keys, while lists cannot (since lists are mutable)."
      ],
      "metadata": {
        "id": "DWxw3QkMouE1"
      }
    },
    {
      "cell_type": "markdown",
      "source": [
        "Q13 - How do sets handle duplicate values in Python?\n",
        "\n",
        "Sol - In Python sets automatically remove duplicate values —they only store unique elements.\n",
        "\n",
        "Example -\n",
        "\n",
        "my_set = {1, 2, 2, 3, 4, 4}\n",
        "\n",
        "print(my_set)\n",
        "\n",
        "Output -\n",
        "\n",
        "{1, 2, 3, 4}\n"
      ],
      "metadata": {
        "id": "jIUnLqFopNKy"
      }
    },
    {
      "cell_type": "markdown",
      "source": [
        "Q14 - How does the “in” keyword work differently for lists and dictionaries?\n",
        "\n",
        "Sol - The in keyword is used in Python to check membership but it works differently for lists and dictionaries.\n",
        "\n",
        "In Lists\n",
        "\n",
        "in checks if a value exists in the list.\n",
        "\n",
        "It searches through all elements one by one.\n",
        "\n",
        "In Dictionaries\n",
        "\n",
        "in checks only for keys, not values.\n",
        "\n",
        "To check values, you must use .values() or .items()."
      ],
      "metadata": {
        "id": "t890XiG3ppAw"
      }
    },
    {
      "cell_type": "markdown",
      "source": [
        "Q15 - Can you modify the elements of a tuple? Explain why or why not?\n",
        "\n",
        "Sol - No, we cannot modify the elements of a tuple in Python. Because Tuples are immutable, which means once created, their elements cannot be changed, added, or removed.\n",
        "\n",
        "When you try to modify a tuple element, Python will raise a TypeError.If a tuple contains mutable elements (like a list), the mutable part can be changed, but the tuple’s structure itself cannot."
      ],
      "metadata": {
        "id": "vBurxjFEp8vZ"
      }
    },
    {
      "cell_type": "markdown",
      "source": [
        "Q16 - What is a nested dictionary, and give an example of its use case?\n",
        "\n",
        "Sol - A nested dictionary in Python is a dictionary inside another dictionary it allows you to store data in a hierarchical (multi-level) structure.\n",
        "A nested dictionary is a dictionary that contains other dictionaries as values,\n",
        "used to represent hierarchical or structured data (like JSON or grouped records)."
      ],
      "metadata": {
        "id": "5UQPNy3PqQ32"
      }
    },
    {
      "cell_type": "markdown",
      "source": [
        "Q17 -  Describe the time complexity of accessing elements in a dictionary?\n",
        "\n",
        "Sol - In Python, accessing elements in a dictionary is very efficient it generally takes constant time.\n",
        "\n",
        "Average Case: O(1)\n",
        "\n",
        "Worst Case: O(n)"
      ],
      "metadata": {
        "id": "11JCjdRGqgbV"
      }
    },
    {
      "cell_type": "markdown",
      "source": [
        "Q18 -  In what situations are lists preferred over dictionaries?\n",
        "\n",
        "Sol - Lists are preferred over dictionaries in situations where order, indexing, or sequential data matters more than key-based access.\n",
        "\n",
        "When order matters Lists preserve the order of elements automatically.\n",
        "\n",
        "Example\n",
        "\n",
        "fruits = [\"apple\", \"banana\", \"cherry\"]\n",
        "for fruit in fruits:\n",
        "    print(fruit)\n",
        "\n",
        "When you need indexed access Lists allow access by position (index), while dictionaries require keys.\n",
        "\n",
        "Example -\n",
        "\n",
        "numbers = [10, 20, 30]\n",
        "\n",
        "print(numbers[1])  # Access by index → 20\n",
        "\n"
      ],
      "metadata": {
        "id": "DFRaRSgeqx3X"
      }
    },
    {
      "cell_type": "markdown",
      "source": [
        "Q19 - Why are dictionaries considered unordered, and how does that affect data retrieval?\n",
        "\n",
        "Sol - Originally (before Python 3.7), dictionaries did not maintain the order in which you added key-value pairs.\n",
        "That means if you inserted data in a certain order, Python did not guarantee that you’d get it back in the same order.So, dictionaries were called unordered collections — they stored data based on hash values, not sequence."
      ],
      "metadata": {
        "id": "XmjUYMJNrKZH"
      }
    },
    {
      "cell_type": "markdown",
      "source": [
        "Q20 - Explain the difference between a list and a dictionary in terms of data retrieval.\n",
        "\n",
        "Sol - Main Difference Between a List and a Dictionary (in Data Retrieval)\n",
        "\n",
        "A list retrieves data by index → list[0]\n",
        "\n",
        "A dictionary retrieves data by key → dict[\"key\"]\n",
        "\n",
        "Lists are best for ordered sequences,\n",
        "while dictionaries are best for key-value lookups.\n",
        "\n",
        "Lists access data by position, dictionaries access data by key.\n"
      ],
      "metadata": {
        "id": "-d28oohIrZNY"
      }
    },
    {
      "cell_type": "markdown",
      "source": [
        "# **Practical Questions**"
      ],
      "metadata": {
        "id": "IoaL-gPWrtuM"
      }
    },
    {
      "cell_type": "code",
      "source": [
        "Q1 - Write a code to create a string with your name and print it?\n",
        "\n",
        "Sol -\n",
        "\n",
        "name = \"Nikhil\"\n",
        "\n",
        "print(\"My name is:\", name)\n",
        "\n",
        "Q2 - Write a code to find the length of the string \"Hello World\"\n",
        "Sol -\n",
        "\n",
        "text = \"Hello World\"\n",
        "print(\"Length of the string:\", len(text))\n",
        "\n",
        "Q3 - Write a code to slice the first 3 characters from the string \"Python Programming\"\n",
        "Sol - # Create a string\n",
        "text = \"Python Programming\"\n",
        "\n",
        "# Slice the first 3 characters\n",
        "first_three = text[:3]\n",
        "\n",
        "# Print the result\n",
        "print(\"First 3 characters:\", first_three)\n",
        "\n",
        "\n",
        "Q4 -  Write a code to convert the string \"hello\" to uppercase?\n",
        "Sol -\n",
        "# Create a string\n",
        "text = \"hello\"\n",
        "\n",
        "# Convert to uppercase\n",
        "upper_text = text.upper()\n",
        "\n",
        "# Print the result\n",
        "print(\"Uppercase string:\", upper_text)\n",
        "\n",
        "Q5 -Write a code to replace the word \"apple\" with \"orange\" in the string \"I like apple\"?\n",
        "Sol -\n",
        "\n",
        "text = \"I like apple\"\n",
        "\n",
        "# Replace \"apple\" with \"orange\"\n",
        "new_text = text.replace(\"apple\", \"orange\")\n",
        "\n",
        "# Print the result\n",
        "print(\"Updated string:\", new_text)\n",
        "\n",
        "Q6 - Write a code to create a list with numbers 1 to 5 and print it?\n",
        "Sol -\n",
        "# Create a list with numbers 1 to 5\n",
        "numbers = [1, 2, 3, 4, 5]\n",
        "\n",
        "# Print the list\n",
        "print(\"List of numbers:\", numbers)\n",
        "\n",
        "Q7 - Write a code to append the number 10 to the list [1, 2, 3, 4]\n",
        "Sol -\n",
        "# Create a list\n",
        "numbers = [1, 2, 3, 4]\n",
        "\n",
        "# Append 10 to the list\n",
        "numbers.append(10)\n",
        "\n",
        "# Print the updated list\n",
        "print(\"Updated list:\", numbers)\n",
        "\n",
        "Q8 - Write a code to remove the number 3 from the list [1, 2, 3, 4, 5]\n",
        "Sol - # Create a list\n",
        "numbers = [1, 2, 3, 4, 5]\n",
        "\n",
        "# Remove the number 3\n",
        "numbers.remove(3)\n",
        "\n",
        "# Print the updated list\n",
        "print(\"Updated list:\", numbers)\n",
        "\n",
        "Q9 - Write a code to access the second element in the list ['a', 'b', 'c', 'd']\n",
        "Sol - # Create a list\n",
        "letters = ['a', 'b', 'c', 'd']\n",
        "\n",
        "# Access the second element (index 1)\n",
        "second_element = letters[1]\n",
        "\n",
        "# Print the result\n",
        "print(\"Second element:\", second_element)\n",
        "\n",
        "Q10 - Write a code to reverse the list [10, 20, 30, 40, 50].\n",
        "Sol - # Create a list\n",
        "numbers = [10, 20, 30, 40, 50]\n",
        "\n",
        "# Reverse the list\n",
        "numbers.reverse()\n",
        "\n",
        "# Print the reversed list\n",
        "print(\"Reversed list:\", numbers)\n",
        "\n",
        "Q11 - Write a code to create a tuple with the elements 100, 200, 300 and print it.\n",
        "Sol - # Create a tuple\n",
        "numbers = (100, 200, 300)\n",
        "\n",
        "# Print the tuple\n",
        "print(\"Tuple:\", numbers)\n",
        "\n",
        "Q12 - Write a code to access the second-to-last element of the tuple ('red', 'green', 'blue', 'yellow').\n",
        "Sol - # Create a tuple\n",
        "colors = ('red', 'green', 'blue', 'yellow')\n",
        "\n",
        "# Access the second-to-last element\n",
        "second_last = colors[-2]\n",
        "\n",
        "# Print the result\n",
        "print(\"Second-to-last element:\", second_last)\n",
        "\n",
        "Q13 -  Write a code to find the minimum number in the tuple (10, 20, 5, 15).\n",
        "Sol - # Create a tuple\n",
        "numbers = (10, 20, 5, 15)\n",
        "\n",
        "# Find the minimum number\n",
        "min_number = min(numbers)\n",
        "\n",
        "# Print the result\n",
        "print(\"Minimum number:\", min_number)\n",
        "\n",
        "Q14 -  Write a code to find the index of the element \"cat\" in the tuple ('dog', 'cat', 'rabbit').\n",
        "Sol - # Create a tuple\n",
        "animals = ('dog', 'cat', 'rabbit')\n",
        "\n",
        "# Find the index of 'cat'\n",
        "index_of_cat = animals.index('cat')\n",
        "\n",
        "# Print the result\n",
        "print(\"Index of 'cat':\", index_of_cat)\n",
        "\n",
        "Q15 -  Write a code to create a tuple containing three different fruits and check if \"kiwi\" is in it.\n",
        "Sol - # Create a tuple with fruits\n",
        "fruits = (\"apple\", \"banana\", \"mango\")\n",
        "\n",
        "# Check if 'kiwi' is in the tuple\n",
        "if \"kiwi\" in fruits:\n",
        "    print(\"Kiwi is in the tuple.\")\n",
        "else:\n",
        "    print(\"Kiwi is not in the tuple.\")\n",
        "\n",
        "Q16 -  Write a code to create a set with the elements 'a', 'b', 'c' and print it.\n",
        "Sol -  # Create a set\n",
        "letters = {'a', 'b', 'c'}\n",
        "\n",
        "# Print the set\n",
        "print(\"Set:\", letters)\n",
        "\n",
        "Q17 - Write a code to clear all elements from the set {1, 2, 3, 4, 5}.\n",
        "Sol - # Create a set\n",
        "numbers = {1, 2, 3, 4, 5}\n",
        "\n",
        "# Clear all elements from the set\n",
        "numbers.clear()\n",
        "\n",
        "# Print the result\n",
        "print(\"Set after clearing:\", numbers)\n",
        "\n",
        "Q18 - Write a code to remove the element 4 from the set {1, 2, 3, 4}.\n",
        "Sol - # Create a set\n",
        "numbers = {1, 2, 3, 4}\n",
        "\n",
        "# Remove the element 4\n",
        "numbers.remove(4)\n",
        "\n",
        "# Print the updated set\n",
        "print(\"Updated set:\", numbers)\n",
        "\n",
        "Q19 -  Write a code to find the union of two sets {1, 2, 3} and {3, 4, 5}\n",
        "Sol -  # Create two sets\n",
        "set1 = {1, 2, 3}\n",
        "set2 = {3, 4, 5}\n",
        "\n",
        "# Find the union of the sets\n",
        "union_set = set1.union(set2)\n",
        "\n",
        "# Print the result\n",
        "print(\"Union of sets:\", union_set)\n",
        "\n",
        "Q20 -  Write a code to find the intersection of two sets {1, 2, 3} and {2, 3, 4}\n",
        "sol - # Create two sets\n",
        "set1 = {1, 2, 3}\n",
        "set2 = {2, 3, 4}\n",
        "\n",
        "# Find the intersection of the sets\n",
        "intersection_set = set1.intersection(set2)\n",
        "\n",
        "# Print the result\n",
        "print(\"Intersection of sets:\", intersection_set)\n",
        "\n",
        "Q21 - Write a code to create a dictionary with the keys \"name\", \"age\", and \"city\", and print it.\n",
        "Sol - # Create a dictionary\n",
        "person = {\n",
        "    \"name\": \"Nikhil\",\n",
        "    \"age\": 25,\n",
        "    \"city\": \"Pune\"\n",
        "}\n",
        "\n",
        "# Print the dictionary\n",
        "print(\"Dictionary:\", person)\n",
        "Q22 - Write a code to add a new key-value pair \"country\": \"USA\" to the dictionary {'name': 'John', 'age': 25}.\n",
        "Sol - # Create a dictionary\n",
        "person = {'name': 'John', 'age': 25}\n",
        "\n",
        "# Add a new key-value pair\n",
        "person['country'] = 'USA'\n",
        "\n",
        "# Print the updated dictionary\n",
        "print(\"Updated dictionary:\", person)\n",
        "\n",
        "Q23 - Write a code to access the value associated with the key \"name\" in the dictionary {'name': 'Alice', 'age': 30}.\n",
        "Sol - # Create a dictionary\n",
        "person = {'name': 'Alice', 'age': 30}\n",
        "\n",
        "# Access the value associated with the key 'name'\n",
        "name_value = person['name']\n",
        "\n",
        "# Print the result\n",
        "print(\"Value associated with 'name':\", name_value)\n",
        "\n",
        "Q24 - Write a code to remove the key \"age\" from the dictionary {'name': 'Bob', 'age': 22, 'city': 'New York'}.\n",
        "Sol - # Create a dictionary\n",
        "person = {'name': 'Bob', 'age': 22, 'city': 'New York'}\n",
        "\n",
        "# Remove the key 'age'\n",
        "del person['age']\n",
        "\n",
        "# Print the updated dictionary\n",
        "print(\"Updated dictionary:\", person)\n",
        "\n",
        "Q25 - Write a code to check if the key \"city\" exists in the dictionary {'name': 'Alice', 'city': 'Paris'}.\n",
        "Sol - # Create a dictionary\n",
        "person = {'name': 'Alice', 'city': 'Paris'}\n",
        "\n",
        "# Check if the key \"city\" exists\n",
        "if 'city' in person:\n",
        "    print(\"Key 'city' exists in the dictionary.\")\n",
        "else:\n",
        "    print(\"Key 'city' does not exist in the dictionary.\")\n",
        "\n",
        "Q26 - Write a code to create a list, a tuple, and a dictionary, and print them all.\n",
        "Sol - # Create a list\n",
        "my_list = [1, 2, 3, 4, 5]\n",
        "\n",
        "# Create a tuple\n",
        "my_tuple = ('apple', 'banana', 'cherry')\n",
        "\n",
        "# Create a dictionary\n",
        "my_dict = {'name': 'John', 'age': 25, 'city': 'New York'}\n",
        "\n",
        "# Print all of them\n",
        "print(\"List:\", my_list)\n",
        "print(\"Tuple:\", my_tuple)\n",
        "print(\"Dictionary:\", my_dict)\n",
        "\n",
        "Q27 -  Write a code to create a list of 5 random numbers between 1 and 100, sort it in ascending order, and print the\n",
        "result.(replaced)\n",
        "Sol - import random\n",
        "\n",
        "# Create a list of 5 random numbers between 1 and 100\n",
        "numbers = [random.randint(1, 100) for _ in range(5)]\n",
        "\n",
        "# Sort the list in ascending order\n",
        "numbers.sort()\n",
        "\n",
        "# Print the sorted list\n",
        "print(\"Sorted list of random numbers:\", numbers)\n",
        "\n",
        "Q28 - Write a code to create a list with strings and print the element at the third index.\n",
        "Sol - # Create a list with strings\n",
        "fruits = [\"apple\", \"banana\", \"cherry\", \"mango\", \"grape\"]\n",
        "\n",
        "# Print the element at the third index (index starts from 0)\n",
        "print(\"Element at third index:\", fruits[3])\n",
        "\n",
        "Q29 - Write a code to combine two dictionaries into one and print the result.\n",
        "Sol - # Create two dictionaries\n",
        "dict1 = {'name': 'John', 'age': 25}\n",
        "dict2 = {'city': 'New York', 'country': 'USA'}\n",
        "\n",
        "# Combine the two dictionaries\n",
        "combined_dict = {**dict1, **dict2}\n",
        "\n",
        "# Print the result\n",
        "print(\"Combined Dictionary:\", combined_dict)\n",
        "\n",
        "Q30 - Write a code to convert a list of strings into a set.\n",
        "Sol - # Create a list of strings\n",
        "string_list = ['apple', 'banana', 'cherry', 'apple']\n",
        "\n",
        "# Convert the list to a set\n",
        "string_set = set(string_list)\n",
        "\n",
        "# Print the result\n",
        "print(\"Set:\", string_set)\n"
      ],
      "metadata": {
        "id": "0vVSNP9Ur0A9"
      },
      "execution_count": null,
      "outputs": []
    },
    {
      "cell_type": "code",
      "execution_count": null,
      "metadata": {
        "id": "RRoSUXHqeuCJ"
      },
      "outputs": [],
      "source": []
    }
  ]
}